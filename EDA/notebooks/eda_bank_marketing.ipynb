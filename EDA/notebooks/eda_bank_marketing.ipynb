{
 "cells": [
  {
   "cell_type": "markdown",
   "id": "ab8b653b",
   "metadata": {},
   "source": [
    "# EDA — Bank Marketing\n",
    "\n",
    "Análisis exploratorio paso a paso. Ejecuta las celdas en orden."
   ]
  },
  {
   "cell_type": "code",
   "execution_count": null,
   "id": "51f6a402",
   "metadata": {},
   "outputs": [],
   "source": [
    "import pandas as pd\n",
    "import numpy as np\n",
    "import matplotlib.pyplot as plt\n",
    "import seaborn as sns\n",
    "sns.set()\n",
    "%matplotlib inline"
   ]
  },
  {
   "cell_type": "code",
   "execution_count": null,
   "id": "c1dd5638",
   "metadata": {},
   "outputs": [],
   "source": [
    "df = pd.read_csv('../data/bank-additional.csv')\n",
    "df.head()"
   ]
  },
  {
   "cell_type": "markdown",
   "id": "f525d0e3",
   "metadata": {},
   "source": [
    "## Limpieza inicial\n",
    "- Reemplazar 'unknown' por NaN\n",
    "- Parseo de fechas si existe la columna `date`"
   ]
  },
  {
   "cell_type": "code",
   "execution_count": null,
   "id": "b47c9d5b",
   "metadata": {},
   "outputs": [],
   "source": [
    "df.replace('unknown', np.nan, inplace=True)\n",
    "if 'date' in df.columns:\n",
    "    df['date'] = pd.to_datetime(df['date'], errors='coerce')\n",
    "df.info()"
   ]
  },
  {
   "cell_type": "markdown",
   "id": "15215a53",
   "metadata": {},
   "source": [
    "## Estadísticas descriptivas"
   ]
  },
  {
   "cell_type": "code",
   "execution_count": null,
   "id": "ffa50c7b",
   "metadata": {},
   "outputs": [],
   "source": [
    "df.describe(include='all').transpose()"
   ]
  },
  {
   "cell_type": "markdown",
   "id": "dd1c2d4f",
   "metadata": {},
   "source": [
    "## Visualizaciones básicas\n",
    "- Histograma de edad\n",
    "- Tasa de conversión por método de contacto"
   ]
  },
  {
   "cell_type": "code",
   "execution_count": null,
   "id": "0fa88538",
   "metadata": {},
   "outputs": [],
   "source": [
    "plt.figure(figsize=(8,4))\n",
    "df['age'].dropna().astype(int).hist(bins=30)\n",
    "plt.title('Distribución de edades')\n",
    "plt.show()"
   ]
  },
  {
   "cell_type": "code",
   "execution_count": null,
   "id": "db66a7bc",
   "metadata": {},
   "outputs": [],
   "source": [
    "if 'contact' in df.columns and 'y' in df.columns:\n",
    "    conv = df.groupby('contact')['y'].apply(lambda x: (x=='yes').mean()).sort_values(ascending=False)\n",
    "    conv.plot(kind='bar')\n",
    "    plt.ylabel(\"Tasa de conversión (proporción 'yes')\")\n",
    "    plt.show()"
   ]
  },
  {
   "cell_type": "markdown",
   "id": "355dbcdf",
   "metadata": {},
   "source": [
    "## Guardar resultados\n",
    "Se exportan estadísticas descriptivas y figuras en `reports/`."
   ]
  }
 ],
 "metadata": {},
 "nbformat": 4,
 "nbformat_minor": 5
}
